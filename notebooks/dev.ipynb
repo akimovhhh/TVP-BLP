{
 "cells": [
  {
   "cell_type": "code",
   "execution_count": 6,
   "id": "59177dd1",
   "metadata": {},
   "outputs": [
    {
     "ename": "TypeError",
     "evalue": "TwoStepGMM_BLP.__init__() missing 1 required positional argument: 'data'",
     "output_type": "error",
     "traceback": [
      "\u001b[31m---------------------------------------------------------------------------\u001b[39m",
      "\u001b[31mTypeError\u001b[39m                                 Traceback (most recent call last)",
      "\u001b[36mCell\u001b[39m\u001b[36m \u001b[39m\u001b[32mIn[6]\u001b[39m\u001b[32m, line 2\u001b[39m\n\u001b[32m      1\u001b[39m \u001b[38;5;28;01mfrom\u001b[39;00m\u001b[38;5;250m \u001b[39m\u001b[34;01mtvpblp\u001b[39;00m\u001b[38;5;250m \u001b[39m\u001b[38;5;28;01mimport\u001b[39;00m TwoStepGMM_BLP\n\u001b[32m----> \u001b[39m\u001b[32m2\u001b[39m \u001b[43mTwoStepGMM_BLP\u001b[49m\u001b[43m(\u001b[49m\u001b[43m)\u001b[49m\n",
      "\u001b[31mTypeError\u001b[39m: TwoStepGMM_BLP.__init__() missing 1 required positional argument: 'data'"
     ]
    }
   ],
   "source": [
    "from tvpblp import TwoStepGMM_BLP\n",
    "TwoStepGMM_BLP()"
   ]
  },
  {
   "cell_type": "code",
   "execution_count": 1,
   "id": "f71a0ea8",
   "metadata": {},
   "outputs": [],
   "source": [
    "%load_ext autoreload\n",
    "%autoreload 2\n",
    "\n",
    "import mypkg.tvblp as tvblp   # module import (not \"from … import …\")\n",
    "\n",
    "import pandas as pd\n",
    "import numpy as np\n",
    "from numpy.linalg import inv"
   ]
  },
  {
   "cell_type": "code",
   "execution_count": 2,
   "id": "2389e5f4",
   "metadata": {},
   "outputs": [],
   "source": [
    "df = pd.read_csv('data_yoghurt.csv')\n",
    "\n",
    "\n",
    "# Normalize attributes by weight\n",
    "df['calories'] = df['calories'] / df['weight']\n",
    "df['sugar'] = df['sugar'] / df['weight']\n",
    "df['protein'] = df['protein'] / df['weight']\n",
    "\n",
    "# Compute outside good share\n",
    "df = df.join(pd.DataFrame(1 - df.groupby(by=['city', 'month']).share.sum()).rename(columns={'share': 'og_share'}), on=['city', 'month'])\n",
    "\n",
    "#Add intercept\n",
    "df['const'] = 1\n",
    "\n",
    "# Prepare y and X\n",
    "y = np.log(df.share).values - np.log(df.og_share).values\n",
    "X = df[['const', 'price', 'weight', 'calories', 'sugar', 'protein']].values\n",
    "\n",
    "\n",
    "\n",
    "df['sugar_dev'] = df.sugar - df[(df.month==1)&(df.city==1)].sugar.mean()\n",
    "df['market'] = 'C'+(df.city).astype(str)+'M'+(df.month).astype(str)\n",
    "df = df.join(df.groupby(by = 'market').sugar.sum().rename('instrument_2'), on = 'market')\n",
    "df['instrument_1'] = df['diesel']*df['distance']\n",
    "\n",
    "prod = df['product'].copy()  # stash original\n",
    "df = pd.get_dummies(\n",
    "    df,\n",
    "    columns=['city', 'month', 'product'],\n",
    "    prefix=['city', 'month', 'product'],\n",
    "    drop_first=True\n",
    ")\n",
    "df.insert(0, 'product', prod)  # re-add original (position 0 optional)\n",
    "\n",
    "lin_columns = df.columns.drop(['share', 'weight', 'calories', 'sugar', 'protein', 'og_share', 'instrument_1', 'distance', 'diesel', 'sugar_dev', 'market', 'instrument_2', 'product'])\n",
    "random_columns = ['sugar_dev']"
   ]
  },
  {
   "cell_type": "code",
   "execution_count": 3,
   "id": "c55f8730",
   "metadata": {},
   "outputs": [
    {
     "name": "stdout",
     "output_type": "stream",
     "text": [
      "Initialized BLP with 27584 observations across 7192 markets.\n",
      "Linear characteristics: ['price', 'const', 'city_2', 'city_3', 'city_4', 'city_5', 'city_6', 'city_7', 'city_8', 'city_9', 'city_10', 'city_11', 'city_12', 'city_13', 'city_14', 'city_15', 'city_16', 'city_17', 'city_18', 'city_19', 'city_20', 'city_21', 'city_22', 'city_23', 'city_24', 'city_25', 'city_26', 'city_27', 'city_28', 'city_29', 'city_30', 'city_31', 'city_32', 'city_33', 'city_34', 'city_35', 'city_36', 'city_37', 'city_38', 'city_39', 'city_40', 'city_41', 'city_42', 'city_43', 'city_44', 'city_45', 'city_46', 'city_47', 'city_48', 'city_49', 'city_50', 'city_51', 'city_52', 'city_53', 'city_54', 'city_55', 'city_56', 'city_57', 'city_58', 'city_59', 'city_60', 'city_61', 'city_62', 'city_63', 'city_64', 'city_65', 'city_66', 'city_67', 'city_68', 'city_69', 'city_70', 'city_71', 'city_72', 'city_73', 'city_74', 'city_75', 'city_76', 'city_77', 'city_78', 'city_79', 'city_80', 'city_81', 'city_82', 'city_83', 'city_84', 'city_85', 'city_86', 'city_87', 'city_88', 'city_89', 'city_90', 'city_91', 'city_92', 'city_93', 'city_94', 'city_95', 'city_96', 'city_97', 'city_98', 'city_99', 'city_100', 'city_101', 'city_102', 'city_103', 'city_104', 'city_105', 'city_106', 'city_107', 'city_108', 'city_109', 'city_110', 'city_111', 'city_112', 'city_113', 'city_114', 'city_115', 'city_116', 'city_117', 'city_118', 'city_119', 'city_120', 'city_121', 'city_122', 'city_123', 'city_124', 'city_125', 'city_126', 'city_127', 'city_128', 'city_129', 'city_130', 'city_131', 'city_132', 'city_133', 'city_134', 'city_135', 'city_136', 'city_137', 'city_138', 'city_139', 'city_140', 'city_141', 'city_142', 'city_143', 'city_144', 'city_145', 'city_146', 'city_147', 'city_148', 'city_149', 'city_150', 'city_151', 'city_152', 'city_153', 'city_154', 'city_155', 'city_156', 'city_157', 'city_158', 'city_159', 'city_160', 'city_161', 'city_162', 'city_163', 'city_164', 'city_165', 'city_166', 'city_167', 'city_168', 'city_169', 'city_170', 'city_171', 'city_172', 'city_173', 'city_174', 'city_175', 'city_176', 'city_177', 'city_178', 'city_179', 'city_180', 'city_181', 'city_182', 'city_183', 'city_184', 'city_185', 'city_186', 'city_187', 'city_188', 'city_189', 'city_190', 'city_191', 'city_192', 'city_193', 'city_194', 'city_195', 'city_196', 'city_197', 'city_198', 'city_199', 'city_200', 'month_2', 'month_3', 'month_4', 'month_5', 'month_6', 'month_7', 'month_8', 'month_9', 'month_10', 'month_11', 'month_12', 'month_13', 'month_14', 'month_15', 'month_16', 'month_17', 'month_18', 'month_19', 'month_20', 'month_21', 'month_22', 'month_23', 'month_24', 'month_25', 'month_26', 'month_27', 'month_28', 'month_29', 'month_30', 'month_31', 'month_32', 'month_33', 'month_34', 'month_35', 'month_36', 'product_2', 'product_3', 'product_4', 'product_5']\n",
      "Random coefficients on: ['sugar_dev']\n",
      "Instruments: ['instrument_1', 'instrument_2', 'const', 'city_2', 'city_3', 'city_4', 'city_5', 'city_6', 'city_7', 'city_8', 'city_9', 'city_10', 'city_11', 'city_12', 'city_13', 'city_14', 'city_15', 'city_16', 'city_17', 'city_18', 'city_19', 'city_20', 'city_21', 'city_22', 'city_23', 'city_24', 'city_25', 'city_26', 'city_27', 'city_28', 'city_29', 'city_30', 'city_31', 'city_32', 'city_33', 'city_34', 'city_35', 'city_36', 'city_37', 'city_38', 'city_39', 'city_40', 'city_41', 'city_42', 'city_43', 'city_44', 'city_45', 'city_46', 'city_47', 'city_48', 'city_49', 'city_50', 'city_51', 'city_52', 'city_53', 'city_54', 'city_55', 'city_56', 'city_57', 'city_58', 'city_59', 'city_60', 'city_61', 'city_62', 'city_63', 'city_64', 'city_65', 'city_66', 'city_67', 'city_68', 'city_69', 'city_70', 'city_71', 'city_72', 'city_73', 'city_74', 'city_75', 'city_76', 'city_77', 'city_78', 'city_79', 'city_80', 'city_81', 'city_82', 'city_83', 'city_84', 'city_85', 'city_86', 'city_87', 'city_88', 'city_89', 'city_90', 'city_91', 'city_92', 'city_93', 'city_94', 'city_95', 'city_96', 'city_97', 'city_98', 'city_99', 'city_100', 'city_101', 'city_102', 'city_103', 'city_104', 'city_105', 'city_106', 'city_107', 'city_108', 'city_109', 'city_110', 'city_111', 'city_112', 'city_113', 'city_114', 'city_115', 'city_116', 'city_117', 'city_118', 'city_119', 'city_120', 'city_121', 'city_122', 'city_123', 'city_124', 'city_125', 'city_126', 'city_127', 'city_128', 'city_129', 'city_130', 'city_131', 'city_132', 'city_133', 'city_134', 'city_135', 'city_136', 'city_137', 'city_138', 'city_139', 'city_140', 'city_141', 'city_142', 'city_143', 'city_144', 'city_145', 'city_146', 'city_147', 'city_148', 'city_149', 'city_150', 'city_151', 'city_152', 'city_153', 'city_154', 'city_155', 'city_156', 'city_157', 'city_158', 'city_159', 'city_160', 'city_161', 'city_162', 'city_163', 'city_164', 'city_165', 'city_166', 'city_167', 'city_168', 'city_169', 'city_170', 'city_171', 'city_172', 'city_173', 'city_174', 'city_175', 'city_176', 'city_177', 'city_178', 'city_179', 'city_180', 'city_181', 'city_182', 'city_183', 'city_184', 'city_185', 'city_186', 'city_187', 'city_188', 'city_189', 'city_190', 'city_191', 'city_192', 'city_193', 'city_194', 'city_195', 'city_196', 'city_197', 'city_198', 'city_199', 'city_200', 'month_2', 'month_3', 'month_4', 'month_5', 'month_6', 'month_7', 'month_8', 'month_9', 'month_10', 'month_11', 'month_12', 'month_13', 'month_14', 'month_15', 'month_16', 'month_17', 'month_18', 'month_19', 'month_20', 'month_21', 'month_22', 'month_23', 'month_24', 'month_25', 'month_26', 'month_27', 'month_28', 'month_29', 'month_30', 'month_31', 'month_32', 'month_33', 'month_34', 'month_35', 'month_36', 'product_2', 'product_3', 'product_4', 'product_5']\n"
     ]
    }
   ],
   "source": [
    "model = tvblp.TwoStepGMM_BLP(df, share_col='share', price_col='price',\n",
    "lin = lin_columns, random = random_columns,\n",
    "instruments = ['instrument_1', 'instrument_2'], market_id='market',\n",
    "product_id='product', integration_points=50, integration_int = [0.1, 0.9], og_share_col='og_share')"
   ]
  },
  {
   "cell_type": "code",
   "execution_count": 4,
   "id": "7207edb1",
   "metadata": {},
   "outputs": [
    {
     "name": "stdout",
     "output_type": "stream",
     "text": [
      "Starting optimization with L_init diagonal: [700.]\n",
      "Stopping tolerance: max|ΔL| < 1e-12\n",
      "  Iter   5: obj = 1.350198e-03, max|ΔL| = 4.731e+02\n",
      "  Iter  10: obj = 2.036775e-19, max|ΔL| = 3.116e-04\n",
      "  Converged! max|ΔL| = 3.695e-13 < 1e-12\n",
      "\n",
      "Optimization finished after 13 iterations\n",
      "Convergence by L change: True\n",
      "Success: True\n",
      "Final objective: 3.061705e-23\n",
      "Optimal L:\n",
      "[[152.8598705]]\n"
     ]
    },
    {
     "data": {
      "text/plain": [
       "{'L_opt': array([[152.8598705]]),\n",
       " 'obj_val': 3.0617051503614194e-23,\n",
       " 'result':   message: CONVERGENCE: NORM OF PROJECTED GRADIENT <= PGTOL\n",
       "   success: True\n",
       "    status: 0\n",
       "       fun: 3.061705150361419e-43\n",
       "         x: [ 1.529e+02]\n",
       "       nit: 9\n",
       "       jac: [ 0.000e+00]\n",
       "      nfev: 13\n",
       "      njev: 13\n",
       "  hess_inv: <1x1 LbfgsInvHessProduct with dtype=float64>,\n",
       " 'n_iter': 13}"
      ]
     },
     "execution_count": 4,
     "metadata": {},
     "output_type": "execute_result"
    }
   ],
   "source": [
    "W = inv(model.Z.T@model.Z)\n",
    "model.fit(W, L_init = [[700]])\n"
   ]
  },
  {
   "cell_type": "code",
   "execution_count": 5,
   "id": "d62a52b7",
   "metadata": {},
   "outputs": [
    {
     "data": {
      "text/plain": [
       "[1, 2, 3]"
      ]
     },
     "execution_count": 5,
     "metadata": {},
     "output_type": "execute_result"
    }
   ],
   "source": [
    "list([1,2,3])"
   ]
  },
  {
   "cell_type": "code",
   "execution_count": null,
   "id": "f5092d0d",
   "metadata": {},
   "outputs": [],
   "source": []
  },
  {
   "cell_type": "code",
   "execution_count": null,
   "id": "6bf929de",
   "metadata": {},
   "outputs": [],
   "source": []
  }
 ],
 "metadata": {
  "kernelspec": {
   "display_name": ".venv",
   "language": "python",
   "name": "python3"
  },
  "language_info": {
   "codemirror_mode": {
    "name": "ipython",
    "version": 3
   },
   "file_extension": ".py",
   "mimetype": "text/x-python",
   "name": "python",
   "nbconvert_exporter": "python",
   "pygments_lexer": "ipython3",
   "version": "3.11.7"
  }
 },
 "nbformat": 4,
 "nbformat_minor": 5
}
